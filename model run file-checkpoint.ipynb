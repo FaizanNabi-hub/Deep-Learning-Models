{
 "cells": [
  {
   "cell_type": "code",
   "execution_count": 12,
   "id": "09b3356f",
   "metadata": {},
   "outputs": [],
   "source": [
    "import tensorflow as tf # TensorFlow was originally developed for large numerical computations without keeping deep learning in mind\n",
    "import os # os is used to navigate through file structure "
   ]
  },
  {
   "cell_type": "code",
   "execution_count": 13,
   "id": "9695d02c",
   "metadata": {},
   "outputs": [],
   "source": [
    "import cv2 # used for computer vision\n",
    "import imghdr # to check file extensions for particular images\n",
    "from matplotlib import pyplot as plt # to visualize images\n",
    "import numpy as np"
   ]
  },
  {
   "cell_type": "code",
   "execution_count": 14,
   "id": "76d66aeb",
   "metadata": {},
   "outputs": [],
   "source": [
    "#importing sequential api\n",
    "from tensorflow.keras.models import Sequential  \n",
    "from tensorflow.keras.layers import Conv2D, MaxPooling2D, Dense, Flatten"
   ]
  },
  {
   "cell_type": "code",
   "execution_count": 15,
   "id": "f998cc28",
   "metadata": {},
   "outputs": [],
   "source": [
    "model = Sequential()"
   ]
  },
  {
   "cell_type": "code",
   "execution_count": 16,
   "id": "02fe379a",
   "metadata": {},
   "outputs": [],
   "source": [
    "# #16-filters filter-size:3X3px stride=1\n",
    "# #input will be only ininitial layer\n",
    "model.add(Conv2D(32 ,(3,3),1,activation='relu',input_shape=(256,256,3)))\n",
    "model.add(MaxPooling2D()) #used to condense \n",
    "\n",
    "model.add(Conv2D(32,(3,3),1,activation='relu'))\n",
    "model.add(MaxPooling2D())\n",
    "\n",
    "model.add(Conv2D(32,(3,3),1,activation='relu'))\n",
    "model.add(MaxPooling2D())\n",
    "\n",
    "model.add(Conv2D(32,(3,3),1,activation='relu'))\n",
    "model.add(MaxPooling2D())\n",
    "\n",
    "model.add(Conv2D(32,(3,3),1,activation='relu'))\n",
    "model.add(MaxPooling2D())\n",
    "\n",
    "model.add(Flatten())\n",
    " \n",
    "model.add(Dense(256,activation='relu')) #neural network 256-neurons\n",
    "model.add(Dense(1,activation='sigmoid')) # we will get single output it will represent either 0 or 1"
   ]
  },
  {
   "cell_type": "code",
   "execution_count": 17,
   "id": "f81d4a64",
   "metadata": {},
   "outputs": [],
   "source": [
    "model.load_weights('C:\\\\Users\\\\faiza\\\\DEEP LEARNING NEURAL NETWORK MODELS\\\\model\\\\epoch_40.h5')"
   ]
  },
  {
   "cell_type": "code",
   "execution_count": 18,
   "id": "dca96ad6",
   "metadata": {},
   "outputs": [],
   "source": [
    "from tensorflow.keras.metrics import Precision,Recall,BinaryAccuracy"
   ]
  },
  {
   "cell_type": "code",
   "execution_count": 19,
   "id": "3b08426f",
   "metadata": {},
   "outputs": [],
   "source": [
    "pre = Precision()\n",
    "re = Recall()\n",
    "acc = BinaryAccuracy()"
   ]
  },
  {
   "cell_type": "code",
   "execution_count": 20,
   "id": "8ce464a6",
   "metadata": {},
   "outputs": [
    {
     "name": "stdout",
     "output_type": "stream",
     "text": [
      "Found 933 files belonging to 2 classes.\n"
     ]
    }
   ],
   "source": [
    "data = tf.keras.utils.image_dataset_from_directory('data')"
   ]
  },
  {
   "cell_type": "code",
   "execution_count": 21,
   "id": "bc710a06",
   "metadata": {},
   "outputs": [],
   "source": [
    "import anvil.server\n",
    "\n",
    "anvil.server.connect(\"WHKHW56XENAOGXRG33QJOH2V-3XX3GXYCSHSVFHIT\")"
   ]
  },
  {
   "cell_type": "code",
   "execution_count": 22,
   "id": "6cc1fe2f",
   "metadata": {},
   "outputs": [
    {
     "name": "stdout",
     "output_type": "stream",
     "text": [
      "1/1 [==============================] - 1s 1s/step\n",
      "1/1 [==============================] - 0s 255ms/step\n",
      "1/1 [==============================] - 0s 189ms/step\n",
      "1/1 [==============================] - 0s 153ms/step\n"
     ]
    }
   ],
   "source": [
    "import anvil.media\n",
    "@anvil.server.callable\n",
    "def classify_image(file):\n",
    "    with anvil.media.TempFile(file) as filename:\n",
    "        img = cv2.imread(filename)\n",
    "        resize = tf.image.resize(img,(256,256))\n",
    "        np.expand_dims(resize,0).shape\n",
    "        yhat = model.predict(np.expand_dims(resize/255,0))\n",
    "        \n",
    "    \n",
    "    return ('HAZARDOUS MATERIAL DETECTED!!!' if yhat > 0.5 else 'AQUATIC ANIMAL DETECTED') "
   ]
  },
  {
   "cell_type": "code",
   "execution_count": null,
   "id": "d8a8aa55",
   "metadata": {},
   "outputs": [],
   "source": []
  },
  {
   "cell_type": "code",
   "execution_count": null,
   "id": "13c7b668",
   "metadata": {},
   "outputs": [],
   "source": []
  }
 ],
 "metadata": {
  "kernelspec": {
   "display_name": "Python 3 (ipykernel)",
   "language": "python",
   "name": "python3"
  },
  "language_info": {
   "codemirror_mode": {
    "name": "ipython",
    "version": 3
   },
   "file_extension": ".py",
   "mimetype": "text/x-python",
   "name": "python",
   "nbconvert_exporter": "python",
   "pygments_lexer": "ipython3",
   "version": "3.9.13"
  }
 },
 "nbformat": 4,
 "nbformat_minor": 5
}
